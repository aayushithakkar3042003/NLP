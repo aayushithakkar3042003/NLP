{
 "cells": [
  {
   "cell_type": "code",
   "execution_count": 8,
   "id": "fd6a389a",
   "metadata": {},
   "outputs": [
    {
     "name": "stdout",
     "output_type": "stream",
     "text": [
      "Tokens ['The', 'Program', 'Manager', 'of', 'Edunet', ',', 'will', 'visit', 'Chennai', 'NSTI', 'on', '20th', 'June', '.']\n",
      "Pos Tags [('The', 'DT'), ('Program', 'NNP'), ('Manager', 'NNP'), ('of', 'IN'), ('Edunet', 'NNP'), (',', ','), ('will', 'MD'), ('visit', 'VB'), ('Chennai', 'NNP'), ('NSTI', 'NNP'), ('on', 'IN'), ('20th', 'CD'), ('June', 'NNP'), ('.', '.')]\n",
      "named entity chunking Tree\n",
      "(S\n",
      "  The/DT\n",
      "  (ORGANIZATION Program/NNP Manager/NNP)\n",
      "  of/IN\n",
      "  (GPE Edunet/NNP)\n",
      "  ,/,\n",
      "  will/MD\n",
      "  visit/VB\n",
      "  (PERSON Chennai/NNP NSTI/NNP)\n",
      "  on/IN\n",
      "  20th/CD\n",
      "  June/NNP\n",
      "  ./.)\n"
     ]
    },
    {
     "name": "stderr",
     "output_type": "stream",
     "text": [
      "[nltk_data] Downloading package averaged_perceptron_tagger_eng to\n",
      "[nltk_data]     C:\\Users\\Admin\\AppData\\Roaming\\nltk_data...\n",
      "[nltk_data]   Package averaged_perceptron_tagger_eng is already up-to-\n",
      "[nltk_data]       date!\n"
     ]
    }
   ],
   "source": [
    "import nltk\n",
    "from nltk.tokenize import word_tokenize\n",
    "from nltk import pos_tag , ne_chunk\n",
    "sentence = \"The Program Manager of Edunet , will visit Chennai NSTI on 20th June.\"\n",
    "tokens = word_tokenize(sentence)\n",
    "pos_tags= pos_tag(tokens)\n",
    "chunked_output = ne_chunk(pos_tags)\n",
    "print(\"Tokens\",tokens)\n",
    "print(\"Pos Tags\",pos_tags)\n",
    "print(\"named entity chunking Tree\")\n",
    "nltk.download('averaged_perceptron_tagger_eng')\n",
    "print(chunked_output)"
   ]
  },
  {
   "cell_type": "code",
   "execution_count": 2,
   "id": "fd4a5c28",
   "metadata": {},
   "outputs": [
    {
     "name": "stderr",
     "output_type": "stream",
     "text": [
      "[nltk_data] Downloading package averaged_perceptron_tagger_eng to\n",
      "[nltk_data]     C:\\Users\\Admin\\AppData\\Roaming\\nltk_data...\n",
      "[nltk_data]   Unzipping taggers\\averaged_perceptron_tagger_eng.zip.\n"
     ]
    },
    {
     "data": {
      "text/plain": [
       "True"
      ]
     },
     "execution_count": 2,
     "metadata": {},
     "output_type": "execute_result"
    }
   ],
   "source": [
    "nltk.download('averaged_perceptron_tagger_eng')\n"
   ]
  },
  {
   "cell_type": "code",
   "execution_count": null,
   "id": "15c6d6c5",
   "metadata": {},
   "outputs": [
    {
     "name": "stderr",
     "output_type": "stream",
     "text": [
      "[nltk_data] Downloading package maxent_ne_chunker_tab to\n",
      "[nltk_data]     C:\\Users\\Admin\\AppData\\Roaming\\nltk_data...\n",
      "[nltk_data]   Unzipping chunkers\\maxent_ne_chunker_tab.zip.\n"
     ]
    },
    {
     "data": {
      "text/plain": [
       "True"
      ]
     },
     "execution_count": 4,
     "metadata": {},
     "output_type": "execute_result"
    }
   ],
   "source": [
    "nltk.download('maxent_ne_chunker_tab')"
   ]
  },
  {
   "cell_type": "code",
   "execution_count": 7,
   "id": "3f1820f7",
   "metadata": {},
   "outputs": [
    {
     "name": "stderr",
     "output_type": "stream",
     "text": [
      "[nltk_data] Downloading package words to\n",
      "[nltk_data]     C:\\Users\\Admin\\AppData\\Roaming\\nltk_data...\n",
      "[nltk_data]   Unzipping corpora\\words.zip.\n"
     ]
    },
    {
     "data": {
      "text/plain": [
       "True"
      ]
     },
     "execution_count": 7,
     "metadata": {},
     "output_type": "execute_result"
    }
   ],
   "source": [
    "nltk.download('words')"
   ]
  }
 ],
 "metadata": {
  "kernelspec": {
   "display_name": "base",
   "language": "python",
   "name": "python3"
  },
  "language_info": {
   "codemirror_mode": {
    "name": "ipython",
    "version": 3
   },
   "file_extension": ".py",
   "mimetype": "text/x-python",
   "name": "python",
   "nbconvert_exporter": "python",
   "pygments_lexer": "ipython3",
   "version": "3.12.7"
  }
 },
 "nbformat": 4,
 "nbformat_minor": 5
}
