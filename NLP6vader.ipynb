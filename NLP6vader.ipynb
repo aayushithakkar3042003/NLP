{
 "cells": [
  {
   "cell_type": "code",
   "execution_count": 2,
   "id": "ca7046ed",
   "metadata": {},
   "outputs": [
    {
     "name": "stdout",
     "output_type": "stream",
     "text": [
      "{'neg': 0.0, 'neu': 0.769, 'pos': 0.231, 'compound': 0.34}\n",
      "Overall Sentiment Positive\n"
     ]
    },
    {
     "name": "stderr",
     "output_type": "stream",
     "text": [
      "[nltk_data] Downloading package vader_lexicon to\n",
      "[nltk_data]     C:\\Users\\Admin\\AppData\\Roaming\\nltk_data...\n",
      "[nltk_data]   Package vader_lexicon is already up-to-date!\n"
     ]
    }
   ],
   "source": [
    "import nltk\n",
    "nltk.download('vader_lexicon')\n",
    "from nltk.sentiment import SentimentIntensityAnalyzer\n",
    "sia = SentimentIntensityAnalyzer()\n",
    "\n",
    "text = \"this is new laptop is amazing but a littile  expensive.\"\n",
    "\n",
    "scores = sia.polarity_scores(text)\n",
    "print(scores)\n",
    "compound = scores['compound']\n",
    "if compound>=0.05:\n",
    "    print(\"Overall Sentiment Positive\")\n",
    "elif compound<=-0.05:\n",
    "    print(\"Overall Sentiment Negative\")\n",
    "\n"
   ]
  }
 ],
 "metadata": {
  "kernelspec": {
   "display_name": "base",
   "language": "python",
   "name": "python3"
  },
  "language_info": {
   "codemirror_mode": {
    "name": "ipython",
    "version": 3
   },
   "file_extension": ".py",
   "mimetype": "text/x-python",
   "name": "python",
   "nbconvert_exporter": "python",
   "pygments_lexer": "ipython3",
   "version": "3.12.7"
  }
 },
 "nbformat": 4,
 "nbformat_minor": 5
}
