{
 "cells": [
  {
   "cell_type": "code",
   "execution_count": null,
   "id": "bea472d4",
   "metadata": {},
   "outputs": [],
   "source": [
    "import nltk \n",
    "from nltk import word_tokenize,pos_tag,ne_chunk\n",
    "text = \"Prime minister Narendra Modi inaurgurated the ew terminal at chennai airport on 10 march 2023\"\n",
    "tokens = word_tokenize(text)\n",
    "tags = pos_tag(tokens)\n",
    "tree = ne_chunk(tags)\n",
    "print(\"Named Entities: \")\n",
    "for subtree in tree:\n",
    "    if hasattr(subtree, \"label\"):\n",
    "        entity = \" \".join([token for token ,pos in subtree])\n",
    "        label = subtree.label()\n",
    "        print(f\"{entity}--{label}\")"
   ]
  }
 ],
 "metadata": {
  "language_info": {
   "name": "python"
  }
 },
 "nbformat": 4,
 "nbformat_minor": 5
}
