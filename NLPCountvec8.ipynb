{
 "cells": [
  {
   "cell_type": "code",
   "execution_count": 1,
   "id": "a08534fa",
   "metadata": {},
   "outputs": [
    {
     "name": "stdout",
     "output_type": "stream",
     "text": [
      "Vocabulary: ['10' 'at' 'buy' 'cheap' 'meeting' 'now' 'pills' 'scheduled']\n",
      "BoW Matrix:\n",
      " [[0 0 1 1 0 1 1 0]\n",
      " [1 1 0 0 1 0 0 1]]\n"
     ]
    }
   ],
   "source": [
    "from sklearn.feature_extraction.text import CountVectorizer \n",
    " \n",
    "# Sample texts \n",
    "texts = [ \n",
    "    \"Buy cheap pills now\", \n",
    "    \"Meeting scheduled at 10\" \n",
    "] \n",
    "# Initialize CountVectorizer \n",
    "vectorizer = CountVectorizer() \n",
    "# Fit and transform the text data \n",
    "X = vectorizer.fit_transform(texts) \n",
    "# Show feature names \n",
    "print(\"Vocabulary:\", vectorizer.get_feature_names_out()) \n",
    "# Show feature matrix \n",
    "print(\"BoW Matrix:\\n\", X.toarray()) \n"
   ]
  }
 ],
 "metadata": {
  "kernelspec": {
   "display_name": "base",
   "language": "python",
   "name": "python3"
  },
  "language_info": {
   "codemirror_mode": {
    "name": "ipython",
    "version": 3
   },
   "file_extension": ".py",
   "mimetype": "text/x-python",
   "name": "python",
   "nbconvert_exporter": "python",
   "pygments_lexer": "ipython3",
   "version": "3.12.7"
  }
 },
 "nbformat": 4,
 "nbformat_minor": 5
}
