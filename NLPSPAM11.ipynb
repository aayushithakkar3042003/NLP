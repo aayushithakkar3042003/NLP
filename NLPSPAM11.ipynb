{
 "cells": [
  {
   "cell_type": "code",
   "execution_count": 2,
   "id": "f312c341",
   "metadata": {},
   "outputs": [],
   "source": [
    "import pandas as pd \n",
    "from sklearn.feature_extraction.text import CountVectorizer \n",
    "from sklearn.model_selection import train_test_split \n",
    "from sklearn.naive_bayes import MultinomialNB \n",
    "from sklearn.metrics import accuracy_score \n",
    "# 2. Load Data directly from GitHub \n",
    "url = \"https://raw.githubusercontent.com/ramar92/NLP-Dataset/main/spam.csv\" \n",
    "df = pd.read_csv(url, encoding='latin-1')[['v1', 'v2']]  # Keep only 'v1' (label) and 'v2' \n",
    "\n",
    "# Rename columns \n",
    "df.columns = ['label', 'message'] \n",
    "# 3. Preprocessing \n",
    "# Convert 'ham' to 0 and 'spam' to 1 \n",
    "df['label_num'] = df.label.map({'ham': 0, 'spam': 1}) \n",
    "X = df['message'] \n",
    "y = df['label_num'] \n",
    "# 4. Feature Extraction using CountVectorizer \n",
    "vectorizer = CountVectorizer() \n",
    "X_vec = vectorizer.fit_transform(X) \n",
    "# 5. Train-Test Split \n",
    "X_train, X_test, y_train, y_test = train_test_split(X_vec, y, test_size=0.2, \n",
    "random_state=42)"
   ]
  },
  {
   "cell_type": "code",
   "execution_count": 5,
   "id": "598c0398",
   "metadata": {},
   "outputs": [
    {
     "name": "stdout",
     "output_type": "stream",
     "text": [
      "Accuracy: 0.97847533632287\n",
      "Spam\n",
      "Not Spam\n"
     ]
    }
   ],
   "source": [
    "model = MultinomialNB() \n",
    "model.fit(X_train, y_train) \n",
    " \n",
    "# 7. Evaluation \n",
    "y_pred = model.predict(X_test) \n",
    "print(\"Accuracy:\", accuracy_score(y_test, y_pred)) \n",
    " \n",
    "# 8. Custom Prediction Function \n",
    "def predict_spam(text): \n",
    "    text_vec = vectorizer.transform([text]) \n",
    "    pred = model.predict(text_vec) \n",
    "    return \"Spam\" if pred[0] else \"Not Spam\" \n",
    " \n",
    "# Example Predictions \n",
    "print(predict_spam(\"Congratulations! You've won a free cruise. Reply WIN to claim.\")) \n",
    "print(predict_spam(\"Hi John, can we reschedule our meeting?\"))"
   ]
  }
 ],
 "metadata": {
  "kernelspec": {
   "display_name": "base",
   "language": "python",
   "name": "python3"
  },
  "language_info": {
   "codemirror_mode": {
    "name": "ipython",
    "version": 3
   },
   "file_extension": ".py",
   "mimetype": "text/x-python",
   "name": "python",
   "nbconvert_exporter": "python",
   "pygments_lexer": "ipython3",
   "version": "3.12.7"
  }
 },
 "nbformat": 4,
 "nbformat_minor": 5
}
