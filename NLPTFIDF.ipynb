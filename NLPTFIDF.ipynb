{
 "cells": [
  {
   "cell_type": "code",
   "execution_count": 1,
   "id": "4d514381",
   "metadata": {},
   "outputs": [
    {
     "name": "stdout",
     "output_type": "stream",
     "text": [
      "      blue    bright        in        is       sky       sun       the\n",
      "0  0.66284  0.000000  0.000000  0.391484  0.504107  0.000000  0.391484\n",
      "1  0.00000  0.558478  0.000000  0.433708  0.000000  0.558478  0.433708\n",
      "2  0.00000  0.359341  0.472491  0.279061  0.359341  0.359341  0.558121\n"
     ]
    }
   ],
   "source": [
    "from sklearn.feature_extraction.text import TfidfVectorizer \n",
    "# Sample documents \n",
    "docs = [ \n",
    "\"the sky is blue\", \n",
    "\"the sun is bright\", \n",
    "\"the sun in the sky is bright\" \n",
    "] \n",
    "# Initialize TF-IDF Vectorizer \n",
    "vectorizer = TfidfVectorizer() \n",
    "# Fit and transform \n",
    "X = vectorizer.fit_transform(docs) \n",
    "# Get feature names \n",
    "features = vectorizer.get_feature_names_out() \n",
    "# Convert to DataFrame for readability \n",
    "import pandas as pd \n",
    "df_tfidf = pd.DataFrame(X.toarray(), columns=features) \n",
    "# Print TF-IDF Matrix \n",
    "print(df_tfidf)"
   ]
  }
 ],
 "metadata": {
  "kernelspec": {
   "display_name": "base",
   "language": "python",
   "name": "python3"
  },
  "language_info": {
   "codemirror_mode": {
    "name": "ipython",
    "version": 3
   },
   "file_extension": ".py",
   "mimetype": "text/x-python",
   "name": "python",
   "nbconvert_exporter": "python",
   "pygments_lexer": "ipython3",
   "version": "3.12.7"
  }
 },
 "nbformat": 4,
 "nbformat_minor": 5
}
